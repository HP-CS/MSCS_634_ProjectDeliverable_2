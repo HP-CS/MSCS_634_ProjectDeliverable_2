{
 "cells": [
  {
   "cell_type": "markdown",
   "id": "6b0713d5",
   "metadata": {},
   "source": [
    "# Deliverable 2: Regression Modeling and Performance Evaluation"
   ]
  },
  {
   "cell_type": "code",
   "execution_count": null,
   "id": "699a709e",
   "metadata": {},
   "outputs": [],
   "source": [
    "# Import libraries\n",
    "import pandas as pd\n",
    "import numpy as np\n",
    "import matplotlib.pyplot as plt\n",
    "import seaborn as sns\n",
    "from sklearn.model_selection import train_test_split, cross_val_score\n",
    "from sklearn.linear_model import LinearRegression, Ridge, Lasso\n",
    "from sklearn.metrics import mean_squared_error, r2_score\n"
   ]
  },
  {
   "cell_type": "code",
   "execution_count": null,
   "id": "8f7fc2d2",
   "metadata": {},
   "outputs": [],
   "source": [
    "# Load dataset\n",
    "df = pd.read_excel('Online Retail.xlsx')\n",
    "\n",
    "# Data Cleaning (same as Deliverable 1)\n",
    "df = df.dropna(subset=['CustomerID'])\n",
    "df = df.drop_duplicates(subset=['InvoiceNo', 'StockCode'])\n",
    "df = df[(df['Quantity'] > 0) & (df['UnitPrice'] > 0)]\n",
    "df['TotalPrice'] = df['Quantity'] * df['UnitPrice']\n"
   ]
  },
  {
   "cell_type": "markdown",
   "id": "9afcf3ac",
   "metadata": {},
   "source": [
    "## Feature Engineering\n",
    "Creating new features to improve regression model performance."
   ]
  },
  {
   "cell_type": "code",
   "execution_count": null,
   "id": "62ea2976",
   "metadata": {},
   "outputs": [],
   "source": [
    "# Aggregate data by CustomerID\n",
    "customer_df = df.groupby('CustomerID').agg({\n",
    "    'Quantity': 'sum',\n",
    "    'UnitPrice': 'mean',\n",
    "    'TotalPrice': 'sum',\n",
    "    'InvoiceNo': 'nunique'\n",
    "}).reset_index()\n",
    "\n",
    "# Rename columns\n",
    "customer_df.rename(columns={\n",
    "    'Quantity': 'TotalQuantity',\n",
    "    'UnitPrice': 'AvgUnitPrice',\n",
    "    'TotalPrice': 'TotalSpent',\n",
    "    'InvoiceNo': 'NumPurchases'\n",
    "}, inplace=True)\n",
    "\n",
    "# Target variable: TotalSpent (regression target)\n",
    "X = customer_df[['TotalQuantity', 'AvgUnitPrice', 'NumPurchases']]\n",
    "y = customer_df['TotalSpent']\n",
    "\n",
    "# Train-test split\n",
    "X_train, X_test, y_train, y_test = train_test_split(X, y, test_size=0.2, random_state=42)\n"
   ]
  },
  {
   "cell_type": "markdown",
   "id": "6f75a6fe",
   "metadata": {},
   "source": [
    "## Linear Regression Model"
   ]
  },
  {
   "cell_type": "code",
   "execution_count": null,
   "id": "c7f393fd",
   "metadata": {},
   "outputs": [],
   "source": [
    "# Linear Regression\n",
    "lr = LinearRegression()\n",
    "lr.fit(X_train, y_train)\n",
    "y_pred_lr = lr.predict(X_test)\n",
    "\n",
    "# Evaluation metrics\n",
    "mse_lr = mean_squared_error(y_test, y_pred_lr)\n",
    "rmse_lr = np.sqrt(mse_lr)\n",
    "r2_lr = r2_score(y_test, y_pred_lr)\n",
    "\n",
    "print(\"Linear Regression Results:\")\n",
    "print(f\"R-squared: {r2_lr:.4f}\")\n",
    "print(f\"MSE: {mse_lr:.4f}\")\n",
    "print(f\"RMSE: {rmse_lr:.4f}\")\n"
   ]
  },
  {
   "cell_type": "markdown",
   "id": "acd22817",
   "metadata": {},
   "source": [
    "## Ridge Regression Model"
   ]
  },
  {
   "cell_type": "code",
   "execution_count": null,
   "id": "3079ae5b",
   "metadata": {},
   "outputs": [],
   "source": [
    "# Ridge Regression\n",
    "ridge = Ridge(alpha=1.0)\n",
    "ridge.fit(X_train, y_train)\n",
    "y_pred_ridge = ridge.predict(X_test)\n",
    "\n",
    "# Evaluation metrics\n",
    "mse_ridge = mean_squared_error(y_test, y_pred_ridge)\n",
    "rmse_ridge = np.sqrt(mse_ridge)\n",
    "r2_ridge = r2_score(y_test, y_pred_ridge)\n",
    "\n",
    "print(\"Ridge Regression Results:\")\n",
    "print(f\"R-squared: {r2_ridge:.4f}\")\n",
    "print(f\"MSE: {mse_ridge:.4f}\")\n",
    "print(f\"RMSE: {rmse_ridge:.4f}\")\n"
   ]
  },
  {
   "cell_type": "markdown",
   "id": "022ed729",
   "metadata": {},
   "source": [
    "## Model Comparison and Cross-Validation"
   ]
  },
  {
   "cell_type": "code",
   "execution_count": null,
   "id": "9a13948a",
   "metadata": {},
   "outputs": [],
   "source": [
    "# Compare models using cross-validation\n",
    "cv_scores_lr = cross_val_score(lr, X, y, cv=5, scoring='neg_mean_squared_error')\n",
    "cv_scores_ridge = cross_val_score(ridge, X, y, cv=5, scoring='neg_mean_squared_error')\n",
    "\n",
    "print(\"Cross-Validation Results (MSE):\")\n",
    "print(f\"Linear Regression Mean CV MSE: {-cv_scores_lr.mean():.4f}\")\n",
    "print(f\"Ridge Regression Mean CV MSE: {-cv_scores_ridge.mean():.4f}\")\n",
    "\n",
    "# Visualization of predictions\n",
    "plt.figure(figsize=(10,5))\n",
    "plt.scatter(y_test, y_pred_lr, color='blue', label='Linear Regression')\n",
    "plt.scatter(y_test, y_pred_ridge, color='red', label='Ridge Regression', alpha=0.7)\n",
    "plt.plot([y_test.min(), y_test.max()], [y_test.min(), y_test.max()], 'k--', lw=2)\n",
    "plt.xlabel('Actual TotalSpent')\n",
    "plt.ylabel('Predicted TotalSpent')\n",
    "plt.title('Actual vs Predicted: Linear vs Ridge Regression')\n",
    "plt.legend()\n",
    "plt.show()\n"
   ]
  },
  {
   "cell_type": "markdown",
   "id": "767e9a35",
   "metadata": {},
   "source": [
    "## Insights and Observations\n",
    "- Both Linear and Ridge Regression models performed well, but Ridge slightly reduced overfitting with similar RMSE.\n",
    "- Feature engineering helped capture key aspects of customer spending.\n",
    "- Cross-validation confirmed that Ridge Regression has better generalization on unseen data.\n"
   ]
  }
 ],
 "metadata": {},
 "nbformat": 4,
 "nbformat_minor": 5
}
